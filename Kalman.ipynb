{
  "nbformat": 4,
  "nbformat_minor": 0,
  "metadata": {
    "colab": {
      "name": "Untitled2.ipynb",
      "provenance": [],
      "collapsed_sections": [],
      "authorship_tag": "ABX9TyP6rEXRrkXOqS3e7+/PPnJS",
      "include_colab_link": true
    },
    "kernelspec": {
      "name": "python3",
      "display_name": "Python 3"
    }
  },
  "cells": [
    {
      "cell_type": "markdown",
      "metadata": {
        "id": "view-in-github",
        "colab_type": "text"
      },
      "source": [
        "<a href=\"https://colab.research.google.com/github/brittdecker/Review/blob/master/Kalman.ipynb\" target=\"_parent\"><img src=\"https://colab.research.google.com/assets/colab-badge.svg\" alt=\"Open In Colab\"/></a>"
      ]
    },
    {
      "cell_type": "markdown",
      "metadata": {
        "id": "80IIsegfrJOo"
      },
      "source": [
        "Kalman Filter Example\n",
        "\n",
        "\n",
        "Example Goal: \n",
        "\n",
        "1) Create position vector over time\n",
        "\n",
        "2) Add noise\n",
        "\n",
        "3) run through the Kalman filter to predict next location\n",
        "\n",
        "4) calculate the error of the fiter predictions\n",
        "\n",
        "x̂N,N=1N(z1+z2+…+zN−1+zN)=1N∑n=1N(zn)\n",
        "\n",
        "Notation:\n",
        "\n",
        "xis the true value of the weight\n",
        "\n",
        "zn is the measurement value of the weight at time n x̂n,\n",
        "\n",
        "n is the estimate of x at time n (the estimate is made after taking the measurement zn)\n",
        "\n",
        "x̂n,n−1 is the previous estimate of x that was made at time n−1 (the estimate was made after taking the measurement zn−1)\n",
        "\n",
        "x̂n+1,n is the estimate of the future state (n+1) of x. The estimate is made at the time n, right after the measurement zn. In other words, xn+1,n is a predicted state\n"
      ]
    },
    {
      "cell_type": "code",
      "metadata": {
        "id": "UT_RRNworMMV",
        "outputId": "38599f2a-310b-4f5f-e7d4-730c744cc81b",
        "colab": {
          "base_uri": "https://localhost:8080/",
          "height": 282
        }
      },
      "source": [
        "import numpy as np\n",
        "import matplotlib.pyplot as plt \n",
        "from scipy import stats\n",
        "import math\n",
        "from scipy.stats import rv_discrete\n",
        "\n",
        "\n",
        "def generate_positions(t,x,y,x_v,y_v):\n",
        "\n",
        "  coord = {}\n",
        "  coord['x'] = []\n",
        "  coord['y'] = []\n",
        "  coord['time'] = []\n",
        "\n",
        "  for step in range(t):\n",
        "    coord['x'].append(x_v*step + x)\n",
        "    coord['y'].append(y_v*step + y)\n",
        "    coord['time'].append(step)\n",
        "\n",
        "\n",
        "  return coord\n",
        "\n",
        "#for x, y at (0, 0), generate truth positions for 10 sec worth data for vel = 1 m/s\n",
        "coordinates = generate_positions(10,0,0,1,1)  \n",
        "\n",
        "plt.plot(coordinates['x'],coordinates['y'])\n",
        "\n"
      ],
      "execution_count": 38,
      "outputs": [
        {
          "output_type": "execute_result",
          "data": {
            "text/plain": [
              "[<matplotlib.lines.Line2D at 0x7fd095b2f6a0>]"
            ]
          },
          "metadata": {
            "tags": []
          },
          "execution_count": 38
        },
        {
          "output_type": "display_data",
          "data": {
            "image/png": "[encoded data removed]",
            "text/plain": [
              "<Figure size 432x288 with 1 Axes>"
            ]
          },
          "metadata": {
            "tags": [],
            "needs_background": "light"
          }
        }
      ]
    },
    {
      "cell_type": "code",
      "metadata": {
        "id": "UtbRz59491Bs",
        "outputId": "4f7286ac-0599-4714-e0a3-c9b69899de83",
        "colab": {
          "base_uri": "https://localhost:8080/",
          "height": 282
        }
      },
      "source": [
        "def measure(data, noise, time):\n",
        "  AWGN = stats.norm(0, 1)\n",
        "  noise = AWGN.rvs()\n",
        "\n",
        "  sample = data[time] + noise\n",
        "\n",
        "  return sample\n",
        "\n",
        "x_sampled = []\n",
        "y_sampled = []\n",
        "\n",
        "for step in coordinates['time']:\n",
        "  x_sampled.append(measure(coordinates['x'],0,step))\n",
        "  y_sampled.append(measure(coordinates['y'],0,step))\n",
        "\n",
        "plt.plot(x_sampled,y_sampled)\n",
        "\n",
        "plt.plot(coordinates['x'],coordinates['y'])\n",
        "\n",
        "\n"
      ],
      "execution_count": 56,
      "outputs": [
        {
          "output_type": "execute_result",
          "data": {
            "text/plain": [
              "[<matplotlib.lines.Line2D at 0x7fd095ad7128>]"
            ]
          },
          "metadata": {
            "tags": []
          },
          "execution_count": 56
        },
        {
          "output_type": "display_data",
          "data": {
            "image/png": "[encoded data removed]",
            "text/plain": [
              "<Figure size 432x288 with 1 Axes>"
            ]
          },
          "metadata": {
            "tags": [],
            "needs_background": "light"
          }
        }
      ]
    },
    {
      "cell_type": "code",
      "metadata": {
        "id": "QDbQOJX5pQib",
        "outputId": "d0f6218b-37a3-4fd2-ff6b-31fc9ee5b124",
        "colab": {
          "base_uri": "https://localhost:8080/",
          "height": 321
        }
      },
      "source": [
        "initial_state = [coordinates['x'][0],coordinates['y'][0]]\n",
        "\n",
        "def meas_vel(delta_time, pos, prev_pos):\n",
        "\n",
        "  vel = (pos - prev_pos)/delta_time\n",
        "\n",
        "  return vel\n",
        "\n",
        "def delta_t(time, prev_time):\n",
        "\n",
        "  dt = time - prev_time\n",
        "\n",
        "  return dt\n",
        "\n",
        "def kalman_filter(delta_time, pos_meas, vel_meas, pos_pred, vel_pred):\n",
        "\n",
        "  alpha = 0.2\n",
        "  beta = 0.1\n",
        "\n",
        "  next_pos = pos_pred + alpha*(pos_meas - pos_pred)\n",
        "\n",
        "  next_vel = vel_pred + beta*((vel_meas - vel_pred)/delta_time)\n",
        "\n",
        "  next_pos = next_pos + delta_time*next_vel\n",
        "\n",
        "  return next_pos, next_vel\n",
        "\n",
        "x_pred = {}\n",
        "y_pred = {}\n",
        "x_pred['pos'] = []\n",
        "y_pred['pos'] = []\n",
        "x_pred['vel'] = []\n",
        "y_pred['vel'] = []\n",
        "\n",
        "x_pred['vel'].append(meas_vel(coordinates['time'][1],coordinates['x'][1],coordinates['x'][0]))\n",
        "y_pred['vel'].append(meas_vel(coordinates['time'][1],coordinates['y'][1],coordinates['y'][0]))\n",
        "\n",
        "#Initialize filter\n",
        "#For init, use meas = true, and sampled - true for pred\n",
        "xvel_meas = meas_vel(coordinates['time'][1],coordinates['x'][1],coordinates['x'][0])\n",
        "yvel_meas = meas_vel(coordinates['time'][1],coordinates['y'][1],coordinates['y'][0])\n",
        "xpos, xvel = kalman_filter(coordinates['time'][1],coordinates['x'][0], xvel_meas, x_sampled[1], x_pred['vel'][0])\n",
        "ypos, yvel = kalman_filter(coordinates['time'][1],coordinates['y'][0], yvel_meas, y_sampled[1], y_pred['vel'][0])\n",
        "x_pred['pos'].append(xpos)\n",
        "x_pred['vel'].append(xvel)\n",
        "y_pred['pos'].append(ypos)\n",
        "y_pred['vel'].append(yvel)\n",
        "\n",
        "\n",
        "\n",
        "for i in range(1, len(x_sampled)):\n",
        "  dt = delta_t(coordinates['time'][i],coordinates['time'][i-1])\n",
        "\n",
        "  xvel_meas = meas_vel(dt,x_sampled[i],x_sampled[i-1])\n",
        "  yvel_meas = meas_vel(dt,y_sampled[i],y_sampled[i-1])\n",
        "\n",
        "  xpos, xvel = kalman_filter(dt,x_sampled[i], xvel_meas, x_pred['pos'][i-1], x_pred['vel'][i-1])\n",
        "  ypos, yvel = kalman_filter(dt,y_sampled[i], yvel_meas, y_pred['pos'][i-1], y_pred['vel'][i-1])\n",
        "\n",
        "  x_pred['pos'].append(xpos)\n",
        "  x_pred['vel'].append(xvel)\n",
        "  y_pred['pos'].append(ypos)\n",
        "  y_pred['vel'].append(yvel)\n",
        "\n",
        "print(x_pred)\n",
        "\n",
        "\n",
        "#filter output\n",
        "plt.plot(x_pred['pos'],y_pred['pos'], '-')\n",
        "#ground truth\n",
        "plt.plot(coordinates['x'],coordinates['y'], ':')\n",
        "#noisy measurements\n",
        "plt.plot(x_sampled,y_sampled, '-')\n",
        "\n",
        "\n"
      ],
      "execution_count": 61,
      "outputs": [
        {
          "output_type": "stream",
          "text": [
            "{'pos': [1.4161799311658252, 2.0155003075409836, 3.459071952806541, 4.315515701480837, 5.680012698475941, 6.429378465612026, 8.233510793411316, 8.49721188655977, 9.539092869375946, 9.805583754029911], 'vel': [1.0, 1.0, 0.7785113798168672, 1.180875574660766, 0.7612608302643259, 1.1887262875697902, 0.7389213171951932, 1.3610894496370793, 0.5038476838324828, 1.261576267158879, 0.5338293988194576]}\n"
          ],
          "name": "stdout"
        },
        {
          "output_type": "execute_result",
          "data": {
            "text/plain": [
              "[<matplotlib.lines.Line2D at 0x7fd094d53630>]"
            ]
          },
          "metadata": {
            "tags": []
          },
          "execution_count": 61
        },
        {
          "output_type": "display_data",
          "data": {
            "image/png": "[encoded data removed]",
            "text/plain": [
              "<Figure size 432x288 with 1 Axes>"
            ]
          },
          "metadata": {
            "tags": [],
            "needs_background": "light"
          }
        }
      ]
    }
  ]
}